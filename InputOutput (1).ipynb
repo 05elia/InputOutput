{
 "cells": [
  {
   "cell_type": "markdown",
   "id": "c9b06ceb-1894-44c0-bd6d-254fca95c89f",
   "metadata": {},
   "source": [
    "<h1> Operator Input Output</h1>"
   ]
  },
  {
   "cell_type": "code",
   "execution_count": 4,
   "id": "a41b21f9-f755-49b5-add7-af8597d06519",
   "metadata": {},
   "outputs": [
    {
     "name": "stdin",
     "output_type": "stream",
     "text": [
      "Abuskeun ngaran hareup maneh Elia \n",
      "Abuskeun ngaran tengah maneh Alvaro \n",
      "Abuskeun ngaran tukang maneh Rahayaan\n"
     ]
    },
    {
     "name": "stdout",
     "output_type": "stream",
     "text": [
      "Привет Elia  Alvaro  Rahayaan надеюсь сегодня будет весело\n"
     ]
    }
   ],
   "source": [
    "first_name = input('Abuskeun ngaran hareup maneh')\n",
    "middle_name = input('Abuskeun ngaran tengah maneh')\n",
    "Last_name = input('Abuskeun ngaran tukang maneh')\n",
    "\n",
    "print(\"Привет\", first_name, middle_name, Last_name, \"надеюсь сегодня будет весело\") \n"
   ]
  },
  {
   "cell_type": "markdown",
   "id": "8b47d9e9-2e45-4875-9d1c-42eaf0b298b5",
   "metadata": {},
   "source": [
    "<h1> Luas keliling Persegi </h1>"
   ]
  },
  {
   "cell_type": "code",
   "execution_count": 11,
   "id": "c7bd9d5d-97af-4fd2-8534-c92efd48916f",
   "metadata": {},
   "outputs": [
    {
     "name": "stdin",
     "output_type": "stream",
     "text": [
      "masukan panjang persegi 90\n",
      "masukan lebar persegi 10\n"
     ]
    },
    {
     "name": "stdout",
     "output_type": "stream",
     "text": [
      "luas Persegi panjang 900\n",
      "Keliling Persegi panjang 200\n"
     ]
    }
   ],
   "source": [
    "#luas => p*l\n",
    "#keliling => 2 * (p+l)\n",
    "\n",
    "panjang = input('masukan panjang persegi')\n",
    "lebar = input('masukan lebar persegi')\n",
    "\n",
    "luas = int(panjang) * int(lebar)\n",
    "keliling = 2 * (int(panjang) + int(lebar))\n",
    "print(\"luas Persegi panjang\", luas)\n",
    "print(\"Keliling Persegi panjang\", keliling)"
   ]
  },
  {
   "cell_type": "markdown",
   "id": "91ab9188-3d2b-4956-83d7-29b487c6e6a0",
   "metadata": {},
   "source": [
    "<h1> Output Separator </h1>"
   ]
  },
  {
   "cell_type": "code",
   "execution_count": 28,
   "id": "3758495a-1559-4bdb-8c17-b70a421f90df",
   "metadata": {},
   "outputs": [
    {
     "name": "stdout",
     "output_type": "stream",
     "text": [
      "24-Oktober-2024\n",
      "24_Oktober_2024\n",
      "24\n",
      "September\n",
      "2023\n",
      "1**2**3**4____"
     ]
    }
   ],
   "source": [
    "print(\"24\", \"Oktober\", \"2024\", sep='-')\n",
    "print(\"24\", \"Oktober\", \"2024\", sep='_')\n",
    "#24\n",
    "#Oktober\n",
    "#2024\n",
    "\n",
    "print(\"24\",\"September\", \"2023\", sep='\\n')\n",
    "print(\"1\",\"2\",\"3\",\"4\",sep='*' * 2,end='_' * 4)\n"
   ]
  },
  {
   "cell_type": "markdown",
   "id": "44903baa-cbe5-4b4f-9dc4-7679dd8eae35",
   "metadata": {},
   "source": [
    "<h1> Memformat dengan string</h1>"
   ]
  },
  {
   "cell_type": "code",
   "execution_count": 34,
   "id": "bf66fe26-60ad-4753-9703-af3a0b979826",
   "metadata": {},
   "outputs": [
    {
     "name": "stdout",
     "output_type": "stream",
     "text": [
      "luas persegi dengan lebar 10 dan panjang 20 = 200\n"
     ]
    }
   ],
   "source": [
    "l = 10\n",
    "p = 20\n",
    "\n",
    "print(\"luas persegi dengan lebar {} dan panjang {} = {}\". format(l,p,l*p))"
   ]
  },
  {
   "cell_type": "markdown",
   "id": "b7c552bf-c0fb-436e-b9a0-cba37e39d557",
   "metadata": {},
   "source": [
    "<h1> Menformat dengan Key</h1>"
   ]
  },
  {
   "cell_type": "code",
   "execution_count": 32,
   "id": "2feff2c3-b57c-4e8e-ab98-fbf6b7aa01e1",
   "metadata": {},
   "outputs": [
    {
     "name": "stdout",
     "output_type": "stream",
     "text": [
      "nama-nama bulan Januari,September\n"
     ]
    }
   ],
   "source": [
    "bulan1 = \"September\"\n",
    "bulan2 = \"Januari\"\n",
    "\n",
    "print(\"nama-nama bulan {1},{0}\".format(bulan1,bulan2))"
   ]
  },
  {
   "cell_type": "markdown",
   "id": "ad4124de-4998-4dfc-b445-cfa8779fc020",
   "metadata": {},
   "source": [
    "<h1> Menformat Pengenalan String</h1>"
   ]
  },
  {
   "cell_type": "code",
   "execution_count": 37,
   "id": "c8907cf2-0ca7-4f19-bb35-c8fdda280637",
   "metadata": {},
   "outputs": [
    {
     "name": "stdout",
     "output_type": "stream",
     "text": [
      "Saya Dipanggil Dengan Tuan muda Alvaro\n"
     ]
    }
   ],
   "source": [
    "print(\"Saya Dipanggil Dengan {fname} {lname}\". format(fname = 'Tuan muda', lname='Alvaro'))"
   ]
  },
  {
   "cell_type": "code",
   "execution_count": 4,
   "id": "b4990adb-6db4-406f-9879-cf143ed785ad",
   "metadata": {},
   "outputs": [
    {
     "name": "stdout",
     "output_type": "stream",
     "text": [
      "U\n",
      "r\n",
      "u\n",
      "Nusa Putra\n",
      "Universitas Nusa Putra\n",
      "Nusa Putra\n",
      "artuP asuN satisrevinU\n"
     ]
    }
   ],
   "source": [
    "kampus = \"Universitas Nusa Putra\"\n",
    "print(kampus[0])\n",
    "print(kampus[-2])\n",
    "print(kampus[-4])\n",
    "\n",
    "#menggunakan range\n",
    "\n",
    "print(kampus[12:23])\n",
    "print(kampus[0:])\n",
    "print(kampus[-10:])\n",
    "print(kampus[::-1])"
   ]
  },
  {
   "cell_type": "markdown",
   "id": "4c2a49e4-1b73-4444-ab8f-4b71863007c2",
   "metadata": {},
   "source": [
    "<h1> Interpolasi Dengan F-String </h1>"
   ]
  },
  {
   "cell_type": "code",
   "execution_count": 53,
   "id": "8c142eba-6615-4eea-b643-823a4e309afd",
   "metadata": {},
   "outputs": [
    {
     "name": "stdout",
     "output_type": "stream",
     "text": [
      "Luas Persegi = 200\n",
      "Keliling Persegi = 60\n"
     ]
    }
   ],
   "source": [
    "p = 10 \n",
    "l = 20 \n",
    "print(f'Luas Persegi = {l*p}')\n",
    "print(f'Keliling Persegi = {2*(p+l)}')"
   ]
  },
  {
   "cell_type": "code",
   "execution_count": 58,
   "id": "aa0b8bb4-a65a-4855-b40a-f44653159e21",
   "metadata": {},
   "outputs": [
    {
     "name": "stdout",
     "output_type": "stream",
     "text": [
      "['ANDRI, BUDI, DONI']\n",
      "ANDRI@ BUDI@ DONI\n"
     ]
    }
   ],
   "source": [
    "nama_siswa = \"Andri, Budi, Doni\"\n",
    "nama_siswa = nama_siswa.upper()\n",
    "print(nama_siswa.split(' , '))\n",
    "print('@'.join(nama_siswa.split(',')))"
   ]
  },
  {
   "cell_type": "code",
   "execution_count": 91,
   "id": "1c807fb3-4c8f-4e6a-906a-f9f0befe58ab",
   "metadata": {},
   "outputs": [
    {
     "name": "stdin",
     "output_type": "stream",
     "text": [
      "nama :  Elia Jose Alvaro Rahayaan\n",
      "Tanggal : 25/September/2005\n"
     ]
    },
    {
     "name": "stdout",
     "output_type": "stream",
     "text": [
      "nama Anda: Elia Jose Alvaro Rahayaan\n",
      "Tanggal : 25\n",
      "bulan: September\n",
      "tahun: 2005\n",
      "inisial: EJAR\n"
     ]
    }
   ],
   "source": [
    "#buat program\n",
    "#input nama => Tedi Wijaya\n",
    "#input => 18/12/2003\n",
    "\n",
    "#Output:\n",
    "#Nama Anda : Tedi Wijaya\n",
    "#Tgl Lahir : 18\n",
    "#bln Lahir : Desember\n",
    "#Thn Lahir : 2003\n",
    "#inisial : TW\n",
    "\n",
    "nama= input('nama : ')\n",
    "tanggal = input('Tanggal :')\n",
    "\n",
    "tanggal_lahir= tanggal.split(' / ')\n",
    "namas = nama.split()\n",
    "\n",
    "print(f\"nama Anda: {nama}\")\n",
    "print(f\"Tanggal : {tanggal[0:2]}\")\n",
    "print(f\"bulan: {tanggal[3:12]}\")\n",
    "print(f\"tahun: {tanggal[13:17]}\")\n",
    "print(f\"inisial: {namas[0][0]}{namas[1][0]}{namas[2][0]}{namas[3][0]}\")\n"
   ]
  },
  {
   "cell_type": "markdown",
   "id": "fb2432f0-cd9e-4a89-af9c-8c5e8392d695",
   "metadata": {},
   "source": [
    "<h1> Variasi Kode UNIVERSITAS NUSA PUTRA </h1>"
   ]
  },
  {
   "cell_type": "code",
   "execution_count": 7,
   "id": "95be1fe5-87c2-416b-bee8-d5b48ba19363",
   "metadata": {},
   "outputs": [
    {
     "ename": "TypeError",
     "evalue": "can only concatenate str (not \"list\") to str",
     "output_type": "error",
     "traceback": [
      "\u001b[1;31m---------------------------------------------------------------------------\u001b[0m",
      "\u001b[1;31mTypeError\u001b[0m                                 Traceback (most recent call last)",
      "Input \u001b[1;32mIn [7]\u001b[0m, in \u001b[0;36m<cell line: 6>\u001b[1;34m()\u001b[0m\n\u001b[0;32m      4\u001b[0m b \u001b[38;5;241m=\u001b[39m judul[\u001b[38;5;241m1\u001b[39m:\u001b[38;5;241m11\u001b[39m]\u001b[38;5;241m+\u001b[39m\u001b[38;5;124m'\u001b[39m\u001b[38;5;124m \u001b[39m\u001b[38;5;124m'\u001b[39m\u001b[38;5;241m+\u001b[39mjudul[\u001b[38;5;241m12\u001b[39m]\u001b[38;5;241m+\u001b[39mjudul[\u001b[38;5;241m14\u001b[39m:\u001b[38;5;241m16\u001b[39m]\u001b[38;5;241m+\u001b[39m\u001b[38;5;124m'\u001b[39m\u001b[38;5;124m \u001b[39m\u001b[38;5;124m'\u001b[39m\u001b[38;5;241m+\u001b[39mjudul[\u001b[38;5;241m17\u001b[39m]\u001b[38;5;241m+\u001b[39mjudul[\u001b[38;5;241m19\u001b[39m:\u001b[38;5;241m22\u001b[39m]\u001b[38;5;241m+\u001b[39m\u001b[38;5;124m'\u001b[39m\u001b[38;5;124m \u001b[39m\u001b[38;5;124m'\u001b[39m\u001b[38;5;241m+\u001b[39mjudul[\u001b[38;5;241m22\u001b[39m:\u001b[38;5;241m31\u001b[39m]\u001b[38;5;241m.\u001b[39mupper()\n\u001b[0;32m      5\u001b[0m c \u001b[38;5;241m=\u001b[39m judul[\u001b[38;5;241m23\u001b[39m:\u001b[38;5;241m31\u001b[39m]\u001b[38;5;241m+\u001b[39m\u001b[38;5;124m'\u001b[39m\u001b[38;5;124m \u001b[39m\u001b[38;5;124m'\u001b[39m\u001b[38;5;241m+\u001b[39mjudul[\u001b[38;5;241m17\u001b[39m:\u001b[38;5;241m22\u001b[39m]\u001b[38;5;241m+\u001b[39m\u001b[38;5;124m'\u001b[39m\u001b[38;5;124m \u001b[39m\u001b[38;5;124m'\u001b[39m\u001b[38;5;241m+\u001b[39mjudul[\u001b[38;5;241m12\u001b[39m:\u001b[38;5;241m16\u001b[39m]\u001b[38;5;241m+\u001b[39m\u001b[38;5;124m'\u001b[39m\u001b[38;5;124m \u001b[39m\u001b[38;5;124m'\u001b[39m\u001b[38;5;241m+\u001b[39mjudul[\u001b[38;5;241m0\u001b[39m:\u001b[38;5;241m11\u001b[39m]\u001b[38;5;241m.\u001b[39mupper()\n\u001b[1;32m----> 6\u001b[0m d \u001b[38;5;241m=\u001b[39m \u001b[43mjudul\u001b[49m\u001b[43m[\u001b[49m\u001b[38;5;241;43m0\u001b[39;49m\u001b[43m]\u001b[49m\u001b[38;5;241;43m+\u001b[39;49m\u001b[43mjudul\u001b[49m\u001b[38;5;241;43m+\u001b[39;49m\u001b[43m[\u001b[49m\u001b[38;5;241;43m12\u001b[39;49m\u001b[43m]\u001b[49m\u001b[38;5;241m+\u001b[39mjudul[\u001b[38;5;241m17\u001b[39m]\u001b[38;5;241m+\u001b[39mjudul[\u001b[38;5;241m23\u001b[39m]\u001b[38;5;241m.\u001b[39mupper()\n\u001b[0;32m      7\u001b[0m e \u001b[38;5;241m=\u001b[39m judul[\u001b[38;5;241m8\u001b[39m:\u001b[38;5;241m11\u001b[39m]\u001b[38;5;241m+\u001b[39m\u001b[38;5;124m'\u001b[39m\u001b[38;5;124m \u001b[39m\u001b[38;5;124m'\u001b[39m\u001b[38;5;241m+\u001b[39mjudul[\u001b[38;5;241m14\u001b[39m:\u001b[38;5;241m16\u001b[39m]\u001b[38;5;241m+\u001b[39mjudul[\u001b[38;5;241m17\u001b[39m:\u001b[38;5;241m19\u001b[39m]\u001b[38;5;241m+\u001b[39m\u001b[38;5;124m'\u001b[39m\u001b[38;5;124m \u001b[39m\u001b[38;5;124m'\u001b[39m\u001b[38;5;241m+\u001b[39mjudul[\u001b[38;5;241m27\u001b[39m:\u001b[38;5;241m31\u001b[39m]\u001b[38;5;241m.\u001b[39mupper()\n\u001b[0;32m     10\u001b[0m \u001b[38;5;28mprint\u001b[39m(\u001b[38;5;124m\"\u001b[39m\u001b[38;5;124mHasil A:\u001b[39m\u001b[38;5;124m\"\u001b[39m, a)\n",
      "\u001b[1;31mTypeError\u001b[0m: can only concatenate str (not \"list\") to str"
     ]
    }
   ],
   "source": [
    "judul = \"UNIVERSITAS NUSA PUTRA SUKABUMI\"\n",
    "\n",
    "a = judul[17:22].lower()+' '+judul[12:16].lower()\n",
    "b = judul[1:11]+' '+judul[12]+judul[14:16]+' '+judul[17]+judul[19:22]+' '+judul[22:31].upper()\n",
    "c = judul[23:31]+' '+judul[17:22]+' '+judul[12:16]+' '+judul[0:11].upper()\n",
    "d = judul[0]+judul[12]+judul[17]+judul[23].upper()\n",
    "e = judul[8:11]+' '+judul[14:16]+judul[17:19]+' '+judul[27:31].upper()\n",
    "                           \n",
    "                           \n",
    "print(\"Hasil A:\", a)\n",
    "print(\"Hasil B:\", b)\n",
    "print(\"hasil C:\", c)\n",
    "print(\"hasil D:\", d)\n",
    "print(\"hasil E:\", e)"
   ]
  },
  {
   "cell_type": "code",
   "execution_count": null,
   "id": "05c1e8d3-7a7a-40ed-b4be-dfa6cba96920",
   "metadata": {},
   "outputs": [],
   "source": []
  }
 ],
 "metadata": {
  "kernelspec": {
   "display_name": "Python 3 (ipykernel)",
   "language": "python",
   "name": "python3"
  },
  "language_info": {
   "codemirror_mode": {
    "name": "ipython",
    "version": 3
   },
   "file_extension": ".py",
   "mimetype": "text/x-python",
   "name": "python",
   "nbconvert_exporter": "python",
   "pygments_lexer": "ipython3",
   "version": "3.9.12"
  }
 },
 "nbformat": 4,
 "nbformat_minor": 5
}
