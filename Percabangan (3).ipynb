{
 "cells": [
  {
   "cell_type": "markdown",
   "id": "4a4546e0-7e88-4eab-9c3e-c16b58b26d9e",
   "metadata": {},
   "source": [
    "<h1>Percabangan<h/1>"
   ]
  },
  {
   "cell_type": "code",
   "execution_count": 4,
   "id": "dc3550b4-1c51-4a76-a47a-eac2d1c83c8d",
   "metadata": {},
   "outputs": [
    {
     "name": "stdout",
     "output_type": "stream",
     "text": [
      "17 adalah bilangan ganjil\n"
     ]
    }
   ],
   "source": [
    "nilai = 17\n",
    "sisa_bagi = nilai % 2\n",
    "if sisa_bagi ==0:\n",
    "    print(f\"{nilai} adalah bilangan genap\")\n",
    "else:\n",
    "    print(f\"{nilai} adalah bilangan ganjil\")"
   ]
  },
  {
   "cell_type": "markdown",
   "id": "496ebb30-c009-4d55-8317-dae7d4827b87",
   "metadata": {},
   "source": [
    "<h1>konversi Nilai</h1>"
   ]
  },
  {
   "cell_type": "code",
   "execution_count": 58,
   "id": "103b6937-f185-4085-965a-321fab49feea",
   "metadata": {},
   "outputs": [
    {
     "name": "stdin",
     "output_type": "stream",
     "text": [
      "masukan nilai bilangan:  -10\n"
     ]
    },
    {
     "name": "stdout",
     "output_type": "stream",
     "text": [
      "Input salah\n"
     ]
    }
   ],
   "source": [
    "nilai = int(input('masukan nilai bilangan: '))\n",
    "if nilai >=0 and nilai <=100:\n",
    "\n",
    "    if nilai <=49:\n",
    "        print(f\"{nilai} E\")\n",
    "    \n",
    "    elif nilai <=59:\n",
    "        print(f\"{nilai} D\")\n",
    "    \n",
    "    elif nilai <=69:\n",
    "        print(f\"{nilai} C\")\n",
    "\n",
    "    elif nilai <=84:\n",
    "        print(f\"{nilai} B\")\n",
    "    \n",
    "    elif nilai <=100:\n",
    "        print(f\"{nilai} A\")\n",
    "    \n",
    "else:\n",
    "    print(\"Input salah\")"
   ]
  },
  {
   "cell_type": "markdown",
   "id": "76f84fee-d96e-4096-923f-3863fdd5f2e7",
   "metadata": {},
   "source": [
    "<h1>Menentukan Username Password</h1>"
   ]
  },
  {
   "cell_type": "code",
   "execution_count": 80,
   "id": "69533ed7-ec6d-4d10-9913-886643a064e9",
   "metadata": {},
   "outputs": [
    {
     "name": "stdin",
     "output_type": "stream",
     "text": [
      "Masukan username basg\n",
      "masukan password admin\n"
     ]
    },
    {
     "name": "stdout",
     "output_type": "stream",
     "text": [
      "username salah\n"
     ]
    }
   ],
   "source": [
    "username = input('Masukan username')\n",
    "password = input('masukan password')\n",
    "if username == 'admin':\n",
    "    if password == 'admin':\n",
    "        print(f\"selamat datang {username}\")\n",
    "    else:\n",
    "        print(\"password anda salah\")\n",
    "    \n",
    "else:\n",
    "    if password == 'admin':\n",
    "        print(\"username salah\")\n",
    "        \n",
    "    else:\n",
    "        print(\"Username dan Password anda salah\")"
   ]
  },
  {
   "cell_type": "markdown",
   "id": "35b93a88-276e-4edb-bdfa-d09ae71c6917",
   "metadata": {},
   "source": [
    "<h1> TUGAS MAFIA </h1>"
   ]
  },
  {
   "cell_type": "code",
   "execution_count": null,
   "id": "fce79fb1-80df-482f-b105-e00846c53578",
   "metadata": {},
   "outputs": [
    {
     "name": "stdin",
     "output_type": "stream",
     "text": [
      "masukan nama sindikat doni \n",
      "masukan umur sindikat 50\n"
     ]
    }
   ],
   "source": [
    "name = (input('masukan nama sindikat'))\n",
    "umur = int(input('masukan umur sindikat'))\n",
    "tempat_tinggal = (input('masukan tempat tinggal sindikat'))\n",
    "uang_tabungan = int(input('masukan tabungan sindikat'))\n",
    "  \n",
    "if umur > 40:\n",
    "    if tempat_tinggal == 'Nevada' or tempat_tinggal == 'New York' or tempat_tinggal == 'havana':\n",
    "        if uang_tabungan >10000000:\n",
    "            pangkat = 'Don'\n",
    "            \n",
    "if umur > 25 or umur <39:\n",
    "    if tempat_tinggal == \"New Jersey \" or tempat_tinggal == \"Manhattan\" or tempat_tinggal == 'Nevada':\n",
    "        if uang_tabungan > 10000000 or uang_tabungan < 20000000:\n",
    "            pangkat='Underboss'\n",
    "            \n",
    "if umur >18 or umur < 24:\n",
    "    if tempat_tinggal == 'California' or tempat_tinggal == 'Detroit' or tempat_tinggal == 'Boston':\n",
    "        if tabungan < 10000000:\n",
    "            pangkat = 'capo'\n",
    "            \n",
    "if pangkat !=\"\":\n",
    "    print(f\"{nama} kemungkinan adalah mafia dengan {pangkat} Terlihat Mencurigakan\")\n",
    "else:\n",
    "    print(f\"{nama} Sepertinya bukan anggota mafia\")\n",
    "                    \n",
    "           \n",
    "           "
   ]
  },
  {
   "cell_type": "code",
   "execution_count": null,
   "id": "9b601eea-9e96-4894-9aac-bf8810fa80eb",
   "metadata": {},
   "outputs": [],
   "source": []
  }
 ],
 "metadata": {
  "kernelspec": {
   "display_name": "Python 3 (ipykernel)",
   "language": "python",
   "name": "python3"
  },
  "language_info": {
   "codemirror_mode": {
    "name": "ipython",
    "version": 3
   },
   "file_extension": ".py",
   "mimetype": "text/x-python",
   "name": "python",
   "nbconvert_exporter": "python",
   "pygments_lexer": "ipython3",
   "version": "3.9.12"
  }
 },
 "nbformat": 4,
 "nbformat_minor": 5
}
